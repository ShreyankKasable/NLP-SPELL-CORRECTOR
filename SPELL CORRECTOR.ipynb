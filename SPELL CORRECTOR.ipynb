{
 "cells": [
  {
   "cell_type": "code",
   "execution_count": 22,
   "id": "5c3de560",
   "metadata": {},
   "outputs": [
    {
     "name": "stderr",
     "output_type": "stream",
     "text": [
      "100%|██████████| 32198/32198 [09:44<00:00, 55.11it/s]\n"
     ]
    }
   ],
   "source": [
    "# IMPORTING ALL REQUIRE LIBRARIES\n",
    "import re\n",
    "import pandas as pd\n",
    "from tqdm import tqdm\n",
    "from typing import List\n",
    "\n",
    "# IMPORT / READING REQUIRE DATA \n",
    "# READING LINE BY LINE :-\n",
    "\n",
    "with open('big.txt', 'r') as fd:\n",
    "    lines = fd.readlines()\n",
    "    words = []\n",
    "    for line in lines:\n",
    "        words += re.findall('\\w+',line.lower())\n",
    "\n",
    "        \n",
    "# NOW WE NEED JUST UNIQUE WORDS SO WE WILL PASS IT TO SET\n",
    "vocab = list(set(words))\n",
    "\n",
    "\n",
    "# FINDING THE PROBABILITY OF EACH WORD FROM DATA\n",
    "word_probability = {}\n",
    "\n",
    "for word in tqdm(vocab):\n",
    "    \n",
    "    c = words.count(word)\n",
    "    word_probability[word] = float(c/len(words))\n",
    "    \n",
    "\n",
    "\n",
    "# TO DELETE :-\n",
    "\n",
    "# USING 'splitting' FUNCTION WE ARE DIVIDING THE WORD INTO TWO PART FROM EACH INDEX\n",
    "def splitting(word):\n",
    "    \n",
    "    output = []\n",
    "    for i in range(len(word)+1):\n",
    "        output += [(word[:i], word[i:])]\n",
    "        \n",
    "    return output   \n",
    "\n",
    "# USING 'deleting' FUNCTION WE ARE DELETING SINGLE CHARACTER FROM EACH POSSIBLE INDEX\n",
    "    \n",
    "def deleting(word):\n",
    "    \n",
    "    output = []\n",
    "    for l, r in splitting(word):\n",
    "        output.append(l+r[1:])\n",
    "    return output\n",
    "\n",
    "\n",
    "# TO SWAP :-\n",
    "\n",
    "# USING 'swapping' FUNCTION WE ARE SWAPPING EACH INDEX WITH ALL PAIR REMAINING INDEX\n",
    "\n",
    "def solve(s: List[str], index: int, ans: List[str]):\n",
    "    # Base case\n",
    "    if index >= len(s):\n",
    "        ans.append(''.join(s))\n",
    "        return\n",
    "\n",
    "    for i in range(index, len(s)):\n",
    "        s[i], s[index] = s[index], s[i]\n",
    "        solve(s, index + 1, ans)\n",
    "        s[i], s[index] = s[index], s[i]\n",
    "\n",
    "def swapping(s: str):\n",
    "    index = 0\n",
    "    ans = []\n",
    "    \n",
    "    solve(list(s), index, ans)\n",
    "    \n",
    "    result = list(set(ans))  # Convert to set to ensure uniqueness and then back to list\n",
    "    \n",
    "    return result    \n",
    "\n",
    " \n",
    "# REPLACE :-\n",
    "\n",
    "# USING 'replacing' FUNCTION WE ARE REPLACING EACH CHARACTER WITH ALL ALPHABET\n",
    "def replacing(word):\n",
    "    \n",
    "    output = []\n",
    "    characters = 'abcdefghijklmnopqrstuvwxyz'\n",
    "    for l, r in splitting(word):\n",
    "        \n",
    "        for i in characters:\n",
    "            output.append(l+ i+ r[1:])\n",
    "\n",
    "    return output \n",
    "\n",
    "\n",
    "# INSERTING :-\n",
    "\n",
    "# USING 'inserting' FUNCTION WE ARE INSERTING EACH ALPHABET AT EACH INDEX\n",
    "def inserting(word):\n",
    "    output = []\n",
    "    characters = 'abcdefghijklmnopqrstuvwxyz'\n",
    "    for l, r in splitting(word):\n",
    "\n",
    "        for i in characters:\n",
    "            output.append(l+i+r)\n",
    "    return output\n",
    "\n",
    "\n",
    "# USING 'unique_possible' FUNCTION WE ARE FINDING ALL UNIQUE POSSIBILITY \n",
    "def unique_possible(text):\n",
    "    return set(inserting(text)+deleting(text)+swapping(text)+replacing(text))\n",
    "\n",
    "\n",
    "# ''  FUNCTION THAT CAN CORRECT ERROR IN A SINGLE ALPHABET CHARACTER \n",
    "def spell_checker_1(word, count = 5):\n",
    "    \n",
    "    output = []\n",
    "    for wrd in unique_possible(word):\n",
    "\n",
    "        if wrd in word_probability.keys():\n",
    "            output.append([wrd, word_probability[wrd]])\n",
    "\n",
    "    return list(pd.DataFrame(output, columns=['WORD', 'PROB']).sort_values(by = 'PROB', ascending=False).head(count)['WORD'].values) \n",
    "\n",
    "\n",
    "def spell_checker_2(word, count = 5):\n",
    "    \n",
    "    suggested_word = []\n",
    "    output = []\n",
    "    for el in unique_possible(word):\n",
    "        suggested_word += unique_possible(el)\n",
    "    suggested_word += unique_possible(word)\n",
    "    \n",
    "    suggested_word = list(set(suggested_word))\n",
    "    \n",
    "    for wrd in suggested_word:\n",
    "        if wrd in word_probability.keys():\n",
    "            output.append([wrd, word_probability[wrd]])\n",
    "    \n",
    "    return list(pd.DataFrame(output, columns=['WORD', 'PROB']).sort_values(by = 'PROB', ascending=False).head(count)['WORD'].values)            \n",
    "            \n",
    "         "
   ]
  },
  {
   "cell_type": "code",
   "execution_count": 14,
   "id": "cf0d60e4",
   "metadata": {},
   "outputs": [],
   "source": []
  },
  {
   "cell_type": "code",
   "execution_count": 23,
   "id": "02337689",
   "metadata": {},
   "outputs": [
    {
     "name": "stdout",
     "output_type": "stream",
     "text": [
      "RESULT OF SPELL CHECKER-1 :- ['love', 'leave', 'ovale']\n",
      "RESULT OF SPELL CHECKER-2 :- ['have', 'love', 'gave', 'alone', 'leave']\n"
     ]
    }
   ],
   "source": [
    "print(\"RESULT OF SPELL CHECKER-1 :-\", spell_checker_1('loave'))\n",
    "print(\"RESULT OF SPELL CHECKER-2 :-\", spell_checker_2('loave'))"
   ]
  },
  {
   "cell_type": "code",
   "execution_count": 24,
   "id": "051e5d6d",
   "metadata": {},
   "outputs": [
    {
     "name": "stdout",
     "output_type": "stream",
     "text": [
      "RESULT OF SPELL CHECKER-1 :- ['family']\n",
      "RESULT OF SPELL CHECKER-2 :- ['vasili', 'family', 'familiar', 'families', 'fail']\n"
     ]
    }
   ],
   "source": [
    "print(\"RESULT OF SPELL CHECKER-1 :-\", spell_checker_1('famili'))\n",
    "print(\"RESULT OF SPELL CHECKER-2 :-\", spell_checker_2('famili'))"
   ]
  },
  {
   "cell_type": "code",
   "execution_count": 25,
   "id": "52f74aee",
   "metadata": {},
   "outputs": [
    {
     "name": "stdout",
     "output_type": "stream",
     "text": [
      "RESULT OF SPELL CHECKER-1 :- []\n",
      "RESULT OF SPELL CHECKER-2 :- ['family', 'failed', 'namely', 'medial', 'flames']\n"
     ]
    }
   ],
   "source": [
    "print(\"RESULT OF SPELL CHECKER-1 :-\", spell_checker_1('fameli'))\n",
    "print(\"RESULT OF SPELL CHECKER-2 :-\", spell_checker_2('fameli'))"
   ]
  },
  {
   "cell_type": "code",
   "execution_count": 26,
   "id": "22bfe9e1",
   "metadata": {},
   "outputs": [
    {
     "name": "stdout",
     "output_type": "stream",
     "text": [
      "RESULT OF SPELL CHECKER-1 :- ['information']\n"
     ]
    }
   ],
   "source": [
    "print(\"RESULT OF SPELL CHECKER-1 :-\", spell_checker_1('informaton'))"
   ]
  },
  {
   "cell_type": "code",
   "execution_count": 27,
   "id": "842c1f1d",
   "metadata": {},
   "outputs": [
    {
     "name": "stdout",
     "output_type": "stream",
     "text": [
      "RESULT OF SPELL CHECKER-1 :- ['author', 'huerta', 'luther']\n",
      "RESULT OF SPELL CHECKER-2 :- ['hurrah', 'author', 'huerta', 'usher', 'luther']\n"
     ]
    }
   ],
   "source": [
    "print(\"RESULT OF SPELL CHECKER-1 :-\", spell_checker_1('auther'))\n",
    "print(\"RESULT OF SPELL CHECKER-2 :-\", spell_checker_2('auhher'))"
   ]
  },
  {
   "cell_type": "code",
   "execution_count": null,
   "id": "4f59765c",
   "metadata": {},
   "outputs": [],
   "source": []
  }
 ],
 "metadata": {
  "kernelspec": {
   "display_name": "Python 3 (ipykernel)",
   "language": "python",
   "name": "python3"
  },
  "language_info": {
   "codemirror_mode": {
    "name": "ipython",
    "version": 3
   },
   "file_extension": ".py",
   "mimetype": "text/x-python",
   "name": "python",
   "nbconvert_exporter": "python",
   "pygments_lexer": "ipython3",
   "version": "3.10.9"
  }
 },
 "nbformat": 4,
 "nbformat_minor": 5
}
